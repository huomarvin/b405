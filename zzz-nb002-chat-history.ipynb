{
 "cells": [
  {
   "cell_type": "markdown",
   "id": "465c003a-29cf-4cfe-a0c6-d36c04ae2b37",
   "metadata": {},
   "source": [
    "# 聊天消息历史\n",
    "* 保存聊天消息列表，然后全部获取。"
   ]
  },
  {
   "cell_type": "markdown",
   "id": "c759d27a-94f3-4141-945d-065f2095bffd",
   "metadata": {
    "jp-MarkdownHeadingCollapsed": true
   },
   "source": [
    "## 介绍\n",
    "* 能够存储关于过去交互的信息。\n",
    "* **LangChain 中大多数与记忆相关的功能被标记为测试版**。原因有两个：\n",
    "    1. 大多数功能尚未准备好用于生产环境。\n",
    "    2. 大多数功能与遗留链兼容，而不是与较新的 LCEL 语法兼容。\n",
    "* **唯一的例外是 ChatMessageHistory 功能**。此功能在很大程度上已准备好用于生产，并与 LCEL 集成。"
   ]
  },
  {
   "cell_type": "markdown",
   "id": "5a2f9501-fa9e-4830-95e2-537dff951cf1",
   "metadata": {},
   "source": [
    "## LangChain 文档关于内存\n",
    "* 在这里查看 LangChain 文档页面关于内存的内容 [这里](https://python.langchain.com/v0.1/docs/modules/memory/)。\n",
    "* 在这里查看 LangChain 文档页面关于如何使用 ChatMessageHistory 和 LCEL 的内容 [这里](https://python.langchain.com/v0.1/docs/expression_language/how_to/message_history/)。\n",
    "* 在这里查看 LangChain 文档页面关于各种 ChatMessageHistory 集成的内容 [这里](https://python.langchain.com/v0.1/docs/integrations/memory/)。"
   ]
  },
  {
   "cell_type": "markdown",
   "id": "76fca939-bd83-4d5b-8e34-57cdbe855260",
   "metadata": {},
   "source": [
    "## 连接到位于此笔记本同一目录的 .env 文件"
   ]
  },
  {
   "cell_type": "code",
   "execution_count": 2,
   "id": "fecd39d0-e72e-4bc2-8a68-2fa4008ea365",
   "metadata": {},
   "outputs": [],
   "source": [
    "import os\n",
    "from dotenv import load_dotenv, find_dotenv\n",
    "_ = load_dotenv(find_dotenv())\n",
    "openai_api_key = os.environ[\"OPENAI_API_KEY\"]"
   ]
  },
  {
   "cell_type": "code",
   "execution_count": 5,
   "id": "6ae8595e-5c07-4b02-8a79-db55fd357527",
   "metadata": {},
   "outputs": [],
   "source": [
    "from langchain_openai import ChatOpenAI\n",
    "\n",
    "llm = ChatOpenAI(model=\"gpt-3.5-turbo-0125\")"
   ]
  },
  {
   "cell_type": "markdown",
   "id": "a3e701b3-3e30-4f51-b650-3ea7716c29fe",
   "metadata": {},
   "source": [
    "## 聊天消息历史\n",
    "* 聊天消息历史提供了方便的方法来保存人类消息、AI 消息，然后获取它们。"
   ]
  },
  {
   "cell_type": "code",
   "execution_count": 7,
   "id": "08e1a8c0-062d-42f4-abad-4c166e16c5b5",
   "metadata": {},
   "outputs": [],
   "source": [
    "from langchain.memory import ChatMessageHistory\n",
    "\n",
    "history = ChatMessageHistory()\n",
    "\n",
    "history.add_user_message(\"hi!\")\n",
    "\n",
    "history.add_ai_message(\"whats up?\")"
   ]
  },
  {
   "cell_type": "code",
   "execution_count": 8,
   "id": "332d5b3f-02ca-4054-8668-949018b88814",
   "metadata": {},
   "outputs": [
    {
     "data": {
      "text/plain": [
       "[HumanMessage(content='hi!'), AIMessage(content='whats up?')]"
      ]
     },
     "execution_count": 8,
     "metadata": {},
     "output_type": "execute_result"
    }
   ],
   "source": [
    "history.messages"
   ]
  }
 ],
 "metadata": {
  "kernelspec": {
   "display_name": "Python 3 (ipykernel)",
   "language": "python",
   "name": "python3"
  },
  "language_info": {
   "codemirror_mode": {
    "name": "ipython",
    "version": 3
   },
   "file_extension": ".py",
   "mimetype": "text/x-python",
   "name": "python",
   "nbconvert_exporter": "python",
   "pygments_lexer": "ipython3",
   "version": "3.11.4"
  }
 },
 "nbformat": 4,
 "nbformat_minor": 5
}
